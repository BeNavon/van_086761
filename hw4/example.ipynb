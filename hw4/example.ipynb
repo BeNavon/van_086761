{
 "cells": [
  {
   "cell_type": "code",
   "id": "initial_id",
   "metadata": {
    "collapsed": true,
    "ExecuteTime": {
     "end_time": "2024-12-29T12:35:51.182981Z",
     "start_time": "2024-12-29T12:35:50.181644Z"
    }
   },
   "source": [
    "import math\n",
    "import unittest\n",
    "\n",
    "# import gtsam\n",
    "import gtsam\n",
    "from gtsam.utils.test_case import GtsamTestCase\n",
    "\n",
    "# import local package\n",
    "import example.module as mod"
   ],
   "outputs": [
    {
     "ename": "ModuleNotFoundError",
     "evalue": "No module named 'example'",
     "output_type": "error",
     "traceback": [
      "\u001B[0;31m---------------------------------------------------------------------------\u001B[0m",
      "\u001B[0;31mModuleNotFoundError\u001B[0m                       Traceback (most recent call last)",
      "Cell \u001B[0;32mIn[1], line 9\u001B[0m\n\u001B[1;32m      6\u001B[0m \u001B[38;5;28;01mfrom\u001B[39;00m \u001B[38;5;21;01mgtsam\u001B[39;00m\u001B[38;5;21;01m.\u001B[39;00m\u001B[38;5;21;01mutils\u001B[39;00m\u001B[38;5;21;01m.\u001B[39;00m\u001B[38;5;21;01mtest_case\u001B[39;00m \u001B[38;5;28;01mimport\u001B[39;00m GtsamTestCase\n\u001B[1;32m      8\u001B[0m \u001B[38;5;66;03m# import local package\u001B[39;00m\n\u001B[0;32m----> 9\u001B[0m \u001B[38;5;28;01mimport\u001B[39;00m \u001B[38;5;21;01mexample\u001B[39;00m\u001B[38;5;21;01m.\u001B[39;00m\u001B[38;5;21;01mmodule\u001B[39;00m \u001B[38;5;28;01mas\u001B[39;00m \u001B[38;5;21;01mmod\u001B[39;00m\n",
      "\u001B[0;31mModuleNotFoundError\u001B[0m: No module named 'example'"
     ]
    }
   ],
   "execution_count": 1
  },
  {
   "metadata": {},
   "cell_type": "code",
   "outputs": [],
   "execution_count": null,
   "source": [
    "class TestGTSamFunctionality(GtsamTestCase):\n",
    "    \"\"\"testing GTSAM functionality.\"\"\"\n",
    "\n",
    "    def test_range(self):\n",
    "        \"\"\"Test range method.\"\"\"\n",
    "        l2 = gtsam.Point3(1, 1, 0)\n",
    "        x1 = gtsam.Pose3()\n",
    "\n",
    "        # establish range is indeed sqrt2\n",
    "        self.assertEqual(math.sqrt(2.0), x1.range(point=l2))\n",
    "\n",
    "class TestLocalModule(GtsamTestCase):\n",
    "    \"\"\"testing GTSAM functionality through local module.\"\"\"\n",
    "\n",
    "    def test_meaning_of_everything(self):\n",
    "        \"\"\"Test simple function in module.\"\"\"\n",
    "        self.assertEqual(mod.meaning_of_everything(), 42)\n",
    "\n",
    "    def test_create_special_2d_pose(self):\n",
    "        \"\"\"Test GTSAM function in module.\"\"\"\n",
    "        actual = mod.create_special_2d_pose()\n",
    "        self.assertIsInstance(actual, gtsam.Pose2)\n",
    "        self.gtsamAssertEquals(actual, gtsam.Pose2(1,2,3), 1e-7)\n",
    "\n",
    "if __name__ == '__main__':\n",
    "    unittest.main(argv=['first-arg-is-ignored'], exit=False)"
   ],
   "id": "cb82a5e1cc752951"
  }
 ],
 "metadata": {
  "kernelspec": {
   "display_name": "Python 3",
   "language": "python",
   "name": "python3"
  },
  "language_info": {
   "codemirror_mode": {
    "name": "ipython",
    "version": 2
   },
   "file_extension": ".py",
   "mimetype": "text/x-python",
   "name": "python",
   "nbconvert_exporter": "python",
   "pygments_lexer": "ipython2",
   "version": "2.7.6"
  }
 },
 "nbformat": 4,
 "nbformat_minor": 5
}
